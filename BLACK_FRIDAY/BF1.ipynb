{
 "cells": [
  {
   "cell_type": "code",
   "execution_count": 1,
   "metadata": {
    "collapsed": true
   },
   "outputs": [],
   "source": [
    "import pandas as pd\n",
    "import numpy as np\n",
    "from math import log\n",
    "import matplotlib.pyplot as plt\n",
    "import seaborn as sns\n",
    "from sklearn.preprocessing import LabelEncoder\n",
    "%matplotlib inline \n",
    "from sklearn import linear_model\n",
    "from __future__ import division\n",
    "\n",
    "\n"
   ]
  },
  {
   "cell_type": "code",
   "execution_count": 2,
   "metadata": {
    "collapsed": false
   },
   "outputs": [
    {
     "name": "stdout",
     "output_type": "stream",
     "text": [
      "<class 'pandas.core.frame.DataFrame'>\n",
      "RangeIndex: 550068 entries, 0 to 550067\n",
      "Data columns (total 12 columns):\n",
      "User_ID                       550068 non-null int64\n",
      "Product_ID                    550068 non-null object\n",
      "Gender                        550068 non-null object\n",
      "Age                           550068 non-null object\n",
      "Occupation                    550068 non-null int64\n",
      "City_Category                 550068 non-null object\n",
      "Stay_In_Current_City_Years    550068 non-null object\n",
      "Marital_Status                550068 non-null int64\n",
      "Product_Category_1            550068 non-null int64\n",
      "Product_Category_2            376430 non-null float64\n",
      "Product_Category_3            166821 non-null float64\n",
      "Purchase                      550068 non-null int64\n",
      "dtypes: float64(2), int64(5), object(5)\n",
      "memory usage: 50.4+ MB\n",
      "None\n",
      "   User_ID Product_ID Gender   Age  Occupation City_Category  \\\n",
      "0  1000001  P00069042      F  0-17          10             A   \n",
      "1  1000001  P00248942      F  0-17          10             A   \n",
      "2  1000001  P00087842      F  0-17          10             A   \n",
      "3  1000001  P00085442      F  0-17          10             A   \n",
      "4  1000002  P00285442      M   55+          16             C   \n",
      "\n",
      "  Stay_In_Current_City_Years  Marital_Status  Product_Category_1  \\\n",
      "0                          2               0                   3   \n",
      "1                          2               0                   1   \n",
      "2                          2               0                  12   \n",
      "3                          2               0                  12   \n",
      "4                         4+               0                   8   \n",
      "\n",
      "   Product_Category_2  Product_Category_3  Purchase  \n",
      "0                 NaN                 NaN      8370  \n",
      "1                 6.0                14.0     15200  \n",
      "2                 NaN                 NaN      1422  \n",
      "3                14.0                 NaN      1057  \n",
      "4                 NaN                 NaN      7969  \n"
     ]
    }
   ],
   "source": [
    "#Loading the datasets\n",
    "train =pd.read_csv(\"C:/Users/Mash/Desktop/Kaggle/Black Friday/train.csv\")\n",
    "test =pd.read_csv(\"C:/Users/Mash/Desktop/Kaggle/Black Friday/test.csv\")\n",
    "#Exploring the data sets\n",
    "print (train.info())\n",
    "#Purchase is the target variable Continuous.Linear regression is to be used.\n",
    "print (train.head())"
   ]
  },
  {
   "cell_type": "code",
   "execution_count": 3,
   "metadata": {
    "collapsed": false
   },
   "outputs": [
    {
     "name": "stdout",
     "output_type": "stream",
     "text": [
      "<class 'pandas.core.frame.DataFrame'>\n",
      "RangeIndex: 550068 entries, 0 to 550067\n",
      "Data columns (total 12 columns):\n",
      "User_ID                       550068 non-null int64\n",
      "Product_ID                    550068 non-null object\n",
      "Gender                        550068 non-null object\n",
      "Age                           550068 non-null object\n",
      "Occupation                    550068 non-null int64\n",
      "City_Category                 550068 non-null object\n",
      "Stay_In_Current_City_Years    550068 non-null object\n",
      "Marital_Status                550068 non-null int64\n",
      "Product_Category_1            550068 non-null int64\n",
      "Product_Category_2            550068 non-null int32\n",
      "Product_Category_3            550068 non-null int32\n",
      "Purchase                      550068 non-null int64\n",
      "dtypes: int32(2), int64(5), object(5)\n",
      "memory usage: 46.2+ MB\n",
      "None\n"
     ]
    }
   ],
   "source": [
    "#checking for null values and filling them with 0 in Product category 2 and Product category 3 and \n",
    "#converting them to int datatype\n",
    "train.Product_Category_2 = train['Product_Category_2'].fillna(0)\n",
    "train.Product_Category_3 = train['Product_Category_3'].fillna(0)\n",
    "train.Product_Category_2 = train.Product_Category_2.astype(int)\n",
    "train.Product_Category_3 = train.Product_Category_3.astype(int)\n",
    "print (train.info())"
   ]
  },
  {
   "cell_type": "code",
   "execution_count": 4,
   "metadata": {
    "collapsed": false
   },
   "outputs": [
    {
     "name": "stdout",
     "output_type": "stream",
     "text": [
      "   User_ID  Product_ID  Gender  Age  Occupation  City_Category  \\\n",
      "0  1000001         672       0    9          10              0   \n",
      "1  1000001        2376       0    9          10              0   \n",
      "2  1000001         852       0    9          10              0   \n",
      "3  1000001         828       0    9          10              0   \n",
      "4  1000002        2734       1   67          16              2   \n",
      "\n",
      "  Stay_In_Current_City_Years  Marital_Status  Product_Category_1  \\\n",
      "0                          2               0                   3   \n",
      "1                          2               0                   1   \n",
      "2                          2               0                  12   \n",
      "3                          2               0                  12   \n",
      "4                         4+               0                   8   \n",
      "\n",
      "   Product_Category_2  Product_Category_3  Purchase  Lage  Uage  \n",
      "0                   0                   0      8370     0    17  \n",
      "1                   6                  14     15200     0    17  \n",
      "2                   0                   0      1422     0    17  \n",
      "3                  14                   0      1057     0    17  \n",
      "4                   0                   0      7969    55    80  \n"
     ]
    }
   ],
   "source": [
    "#Encoding Object variables and exploring them\n",
    "number = LabelEncoder()\n",
    "train.Gender = number.fit_transform(train['Gender'])\n",
    "test.Gender = number.fit_transform(test['Gender'])\n",
    "\n",
    "def AgeTransform(value):\n",
    "    if value == \"0-17\":\n",
    "        LAge = 0\n",
    "        Mage = 9\n",
    "        UAge = 17\n",
    "    if value == \"18-25\":\n",
    "        LAge = 18\n",
    "        Mage = 22\n",
    "        UAge = 25\n",
    "    if value == \"26-35\":\n",
    "        LAge = 26\n",
    "        Mage = 30\n",
    "        UAge = 35\n",
    "    if value == \"36-45\":\n",
    "        LAge = 36\n",
    "        Mage = 40\n",
    "        UAge = 45\n",
    "    if value == \"46-50\":\n",
    "        LAge = 46\n",
    "        Mage = 48\n",
    "        UAge = 50\n",
    "    if value == \"51-55\":\n",
    "        LAge = 51\n",
    "        Mage = 53\n",
    "        UAge = 55\n",
    "    if value == \"55+\":\n",
    "        LAge = 55\n",
    "        Mage = 67\n",
    "        UAge = 80\n",
    "    return (LAge,UAge,Mage)\n",
    "\n",
    "\n",
    "# Creating Lower and Upper Ages for the Age\n",
    "trAges =train.Age.apply(AgeTransform)\n",
    "train['Lage'] = [i[0] for i in trAges]\n",
    "train['Uage'] = [i[1] for i in trAges]\n",
    "train['Age'] = [i[2] for i in trAges]\n",
    "\n",
    "#for the test set\n",
    "teAges =test.Age.apply(AgeTransform)\n",
    "test['Lage'] = [i[0] for i in teAges]\n",
    "test['Uage'] = [i[1] for i in teAges]\n",
    "test['Age'] = [i[2] for i in teAges]\n",
    "\n",
    "#Encoding City category\n",
    "train.City_Category = number.fit_transform(train['City_Category'])\n",
    "test.City_Category = number.fit_transform(test['City_Category'])\n",
    "\n",
    "#Encoding Products\n",
    "train.Product_ID = number.fit_transform(train['Product_ID'])\n",
    "test.Product_ID = number.fit_transform(test['Product_ID'])\n",
    "\n",
    "print (train.head())"
   ]
  },
  {
   "cell_type": "code",
   "execution_count": 5,
   "metadata": {
    "collapsed": false
   },
   "outputs": [
    {
     "name": "stdout",
     "output_type": "stream",
     "text": [
      "['2' '7' '3' '1' '0']\n",
      "   User_ID  Product_ID  Gender  Age  Occupation  City_Category  \\\n",
      "0  1000001         672       0    9          10              0   \n",
      "1  1000001        2376       0    9          10              0   \n",
      "2  1000001         852       0    9          10              0   \n",
      "3  1000001         828       0    9          10              0   \n",
      "4  1000002        2734       1   67          16              2   \n",
      "\n",
      "  Stay_In_Current_City_Years  Marital_Status  Product_Category_1  \\\n",
      "0                          2               0                   3   \n",
      "1                          2               0                   1   \n",
      "2                          2               0                  12   \n",
      "3                          2               0                  12   \n",
      "4                          7               0                   8   \n",
      "\n",
      "   Product_Category_2  Product_Category_3  Purchase  Lage  Uage  \n",
      "0                   0                   0      8370     0    17  \n",
      "1                   6                  14     15200     0    17  \n",
      "2                   0                   0      1422     0    17  \n",
      "3                  14                   0      1057     0    17  \n",
      "4                   0                   0      7969    55    80  \n"
     ]
    }
   ],
   "source": [
    "#Since 4+ years could mean anything from 4 to say 10 years taking the median of 4 and 10\n",
    "train.Stay_In_Current_City_Years = train.Stay_In_Current_City_Years.replace({\"4+\" : '7'})\n",
    "test.Stay_In_Current_City_Years = test.Stay_In_Current_City_Years.replace({\"4+\" : '7'})\n",
    "print (train.Stay_In_Current_City_Years.unique())\n",
    "\n",
    "print (train.head())"
   ]
  },
  {
   "cell_type": "code",
   "execution_count": 6,
   "metadata": {
    "collapsed": false
   },
   "outputs": [
    {
     "name": "stdout",
     "output_type": "stream",
     "text": [
      "Purchase              1.000000\n",
      "Product_Category_3    0.288501\n",
      "City_Category         0.061914\n",
      "Gender                0.060346\n",
      "Product_Category_2    0.052288\n",
      "Occupation            0.020833\n",
      "Lage                  0.016296\n",
      "Age                   0.015439\n",
      "Uage                  0.014443\n",
      "User_ID               0.004716\n",
      "Marital_Status       -0.000463\n",
      "Product_ID           -0.109345\n",
      "Product_Category_1   -0.343703\n",
      "Name: Purchase, dtype: float64\n"
     ]
    }
   ],
   "source": [
    "#Since there are no numerical predictor values we are not looking and skewness and adopting transformations.\n",
    "#Checking the corelation\n",
    "\n",
    "Corelation = train.corr()\n",
    "Corelation.sort_values(['Purchase'], ascending = False,inplace = True)\n",
    "print(Corelation.Purchase)"
   ]
  },
  {
   "cell_type": "code",
   "execution_count": 7,
   "metadata": {
    "collapsed": false
   },
   "outputs": [
    {
     "data": {
      "text/plain": [
       "<function matplotlib.pyplot.show>"
      ]
     },
     "execution_count": 7,
     "metadata": {},
     "output_type": "execute_result"
    },
    {
     "data": {
      "image/png": "[encoded data removed]",
      "text/plain": [
       "<matplotlib.figure.Figure at 0x20884ed51d0>"
      ]
     },
     "metadata": {},
     "output_type": "display_data"
    }
   ],
   "source": [
    "#Understanding the response variable\n",
    "# right skewed distribution\n",
    "plt.hist(train.Purchase,alpha = 0.5)\n",
    "plt.show\n",
    "\n"
   ]
  },
  {
   "cell_type": "code",
   "execution_count": 8,
   "metadata": {
    "collapsed": false
   },
   "outputs": [
    {
     "data": {
      "text/plain": [
       "<function matplotlib.pyplot.show>"
      ]
     },
     "execution_count": 8,
     "metadata": {},
     "output_type": "execute_result"
    },
    {
     "data": {
      "image/png": "[encoded data removed]",
      "text/plain": [
       "<matplotlib.figure.Figure at 0x20884cfb160>"
      ]
     },
     "metadata": {},
     "output_type": "display_data"
    }
   ],
   "source": [
    "#Taking Square root to make it normal\n",
    "y = np.sqrt(train[\"Purchase\"].astype('float64'))\n",
    "plt.hist(y,alpha = 0.5)\n",
    "plt.show\n"
   ]
  },
  {
   "cell_type": "code",
   "execution_count": 9,
   "metadata": {
    "collapsed": false
   },
   "outputs": [],
   "source": [
    "#Preparing  the data\n",
    "\n",
    "X = train\n",
    "X =X.drop([\"Purchase\"],axis = 1)\n",
    "\n",
    "\n",
    "Qualitative = ['Product_ID','Gender','Occupation','City_Category',\\\n",
    "                       'Product_Category_1','Product_Category_2','Product_Category_3']\n",
    "\n",
    "Quantitative = ['Age','Lage','Uage','Stay_In_Current_City_Years']\n",
    "X.Categorical = X[Qualitative]\n",
    "X.Numerical = X[Quantitative]\n",
    "\n",
    "#Get Dummies for the categorical variables\n",
    "X.Categorical = pd.get_dummies(X.Categorical)\n",
    "Train = pd.concat([X.Categorical,X.Numerical],axis =1)"
   ]
  },
  {
   "cell_type": "code",
   "execution_count": null,
   "metadata": {
    "collapsed": false
   },
   "outputs": [],
   "source": [
    "#Plotting a regression  model\n",
    "from sklearn import metrics\n",
    "from sklearn.cross_validation import train_test_split,cross_val_score\n",
    "from sklearn.grid_search import GridSearchCV\n",
    "from sklearn.ensemble import RandomForestRegressor\n",
    "\n",
    "X_train, X_test, y_train, y_test = train_test_split(Train, y, test_size = 0.30, random_state = 0)\n",
    "Regr = RandomForestRegressor()\n",
    "param_grid = {\"max_depth\": [5,10,None],\n",
    "                  \"max_features\": [\"auto\",\"log2\",0.9],\n",
    "                  \"min_samples_split\": [2,4,6],\n",
    "                  \"min_samples_leaf\": [1,5],\n",
    "                  \"bootstrap\": [True, False],\n",
    "                  \"criterion\": [\"mse\"],\n",
    "                  \"n_estimators\": [10,15,18],\n",
    "                  }\n",
    "\n",
    "GS = GridSearchCV(Regr,param_grid=param_grid)\n",
    "Regr = GS.fit(X_train,y_train)\n",
    "print (Regr.best_params_)\n",
    "\n",
    "score = cross_val_score(Regr,X,y)\n",
    "print (score)"
   ]
  },
  {
   "cell_type": "code",
   "execution_count": 232,
   "metadata": {
    "collapsed": false
   },
   "outputs": [
    {
     "name": "stdout",
     "output_type": "stream",
     "text": [
      "2090.94568687\n"
     ]
    }
   ],
   "source": [
    "#Calculatin RMSE between yhat and y\n",
    "\n",
    "def RMSE(predicted,actual):\n",
    "    return np.sqrt(np.sum((predicted-actual)**2)/len(actual))\n",
    "\n",
    "yhat = (Regr.predict(Train)**2)\n",
    "print (RMSE(yhat,train.Purchase))"
   ]
  }
 ],
 "metadata": {
  "anaconda-cloud": {},
  "kernelspec": {
   "display_name": "Python [conda root]",
   "language": "python",
   "name": "conda-root-py"
  },
  "language_info": {
   "codemirror_mode": {
    "name": "ipython",
    "version": 3
   },
   "file_extension": ".py",
   "mimetype": "text/x-python",
   "name": "python",
   "nbconvert_exporter": "python",
   "pygments_lexer": "ipython3",
   "version": "3.5.2"
  }
 },
 "nbformat": 4,
 "nbformat_minor": 1
}
